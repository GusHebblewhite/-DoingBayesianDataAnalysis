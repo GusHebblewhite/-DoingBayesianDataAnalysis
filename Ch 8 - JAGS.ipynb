{
 "cells": [
  {
   "cell_type": "markdown",
   "metadata": {},
   "source": [
    "# Ch 8 - JAGS\n",
    "\n",
    "Recall that:\n",
    "$$p(\\theta \\, | \\, D) = \\frac{p(D \\, | \\, \\theta) \\, p(\\theta)}{P(D)}$$\n",
    "$$posterior \\: = \\: likelihood \\: * \\: prior \\: / \\: evidence$$\n",
    "Where\n",
    "$$p(D) = \\int P(D \\, | \\, \\theta) \\, P(\\theta) \\, d\\theta$$\n",
    "\n",
    "Or with 2 parameters:\n",
    "$$p(\\theta_1, \\theta_2 \\, | \\, D) = \\frac{p(D \\, | \\, \\theta_1, \\theta_2)\\; p(\\theta_1, \\theta_2)}{p(D)}$$\n",
    "$$p(D) = \\int \\int p(D \\, | \\, \\theta_1, \\theta_2)\\; p(\\theta_1, \\theta_2) \\; d\\theta_1 \\, d\\theta_2$$"
   ]
  },
  {
   "cell_type": "code",
   "execution_count": 1,
   "metadata": {
    "collapsed": false
   },
   "outputs": [
    {
     "name": "stderr",
     "output_type": "stream",
     "text": [
      "Loading required package: coda\n",
      "Linked to JAGS 4.2.0\n",
      "Loaded modules: basemod,bugs\n"
     ]
    }
   ],
   "source": [
    "library('rjags')"
   ]
  },
  {
   "cell_type": "markdown",
   "metadata": {},
   "source": [
    "### Data processing"
   ]
  },
  {
   "cell_type": "code",
   "execution_count": 13,
   "metadata": {
    "collapsed": false
   },
   "outputs": [],
   "source": [
    "myData = read.csv(\"data/csv/z15N50.csv\")\n",
    "y = myData[['y']]\n",
    "#create list:\n",
    "datalist = list(y = y, Ntotal = length(y))"
   ]
  },
  {
   "cell_type": "markdown",
   "metadata": {},
   "source": [
    "### Create Model\n",
    "\n",
    "The following code defines a model.\n",
    "```R\n",
    "model{\n",
    "    \n",
    "    #Likelihood\n",
    "    for (i in 1:Ntotal){\n",
    "        y[i] ~ dbern(theta)\n",
    "    }\n",
    "    \n",
    "    #Prior\n",
    "    prior_a = 1\n",
    "    prior_b = 1\n",
    "    theta ~ dbeta(prior_a, prior_b)\n",
    "}\n",
    "```\n",
    "\n",
    "We then send this model to JAGS by converting it to a text file which JAGS will read. Note that JAGS can understand R commenting syntax."
   ]
  },
  {
   "cell_type": "code",
   "execution_count": 14,
   "metadata": {
    "collapsed": false
   },
   "outputs": [],
   "source": [
    "modelstring = '\n",
    "model{\n",
    "    \n",
    "    #Likelihood\n",
    "    for (i in 1:Ntotal){\n",
    "        y[i] ~ dbern(theta)\n",
    "    }\n",
    "    \n",
    "    #Prior\n",
    "    prior_a = 1\n",
    "    prior_b = 1\n",
    "    theta ~ dbeta(prior_a, prior_b)\n",
    "}'\n",
    "writeLines(modelstring, con = \"temp_model.txt\")"
   ]
  },
  {
   "cell_type": "markdown",
   "metadata": {},
   "source": [
    "### Initialising Model\n",
    "The following is an optional step, where we essentially can pass intial model parameters to JAGS. In this case, we want to tell it to start it's MCMC in the \"state\" that corresponds to the Maximum Likelihood Estimate (a.k.a the peak of theta's PDF; $\\frac{z}{N}$). All this does in ensures an efficient start, as the first point the MCMC will sample nice and central. This could be achived with the following code:\n",
    "\n",
    "```R\n",
    "initsList = list(theta = sum(y)/length(y))\n",
    "```\n",
    "\n",
    "In practice however with complex models, we may want to instead use other initialization methods (e.g. initialize $\\theta$ at a bunch of different disparate points which (in the event all the models converge) gives us evidence that we are seeing all of the sample space.\n",
    "\n",
    "As a compromise, we can randomly generate starting $\\theta$ near the Maximum Likelihood Estimate. This can be achieved with the below function."
   ]
  },
  {
   "cell_type": "code",
   "execution_count": 15,
   "metadata": {
    "collapsed": true
   },
   "outputs": [],
   "source": [
    "initsList = function() {\n",
    "    resampledY = sample( y , replace=TRUE )          # resample values from y\n",
    "    thetaInit = sum(resampledY)/length(resampledY)   # compute proportion (MLE)\n",
    "    thetaInit = 0.001+0.998*thetaInit                # keep away from 0,1\n",
    "    return( list( theta=thetaInit ) )                # return as a named list\n",
    "}"
   ]
  },
  {
   "cell_type": "markdown",
   "metadata": {},
   "source": [
    "### JAGS model\n",
    "\n",
    "n.chains = number of chains  \n",
    "n.adapt = number of steps for tuning/adapting sampler"
   ]
  },
  {
   "cell_type": "code",
   "execution_count": 17,
   "metadata": {
    "collapsed": false
   },
   "outputs": [
    {
     "name": "stdout",
     "output_type": "stream",
     "text": [
      "Compiling model graph\n",
      "   Resolving undeclared variables\n",
      "   Allocating nodes\n",
      "Graph information:\n",
      "   Observed stochastic nodes: 50\n",
      "   Unobserved stochastic nodes: 1\n",
      "   Total graph size: 54\n",
      "\n",
      "Initializing model\n",
      "\n"
     ]
    }
   ],
   "source": [
    "jagsModel = jags.model(file = \"temp_model.txt\",\n",
    "                       data = datalist,\n",
    "                       n.chains = 3,\n",
    "                       n.adapt = 500)"
   ]
  },
  {
   "cell_type": "markdown",
   "metadata": {},
   "source": [
    "### JAGS model burn-in\n",
    "Burn-in is where we give our model some number of steps to move from the initial $\\theta$ to a $\\theta$ which is definitely part of the sample. This helps to give us more representative sample for small sample sizes, and a value of a few 1000 is common."
   ]
  },
  {
   "cell_type": "code",
   "execution_count": 18,
   "metadata": {
    "collapsed": true
   },
   "outputs": [],
   "source": [
    "update(jagsModel, n.iter = 500)"
   ]
  },
  {
   "cell_type": "markdown",
   "metadata": {},
   "source": [
    "### Generating samples\n",
    "The next step is to generate actual samples which we hope are representative of the posterior. We use the 'coda' functions to interact with chains.\n",
    "\n",
    "Note; since we have 3 chains, 3334 iterations will actually draw 10,002 samples from the posterior."
   ]
  },
  {
   "cell_type": "code",
   "execution_count": 20,
   "metadata": {
    "collapsed": false
   },
   "outputs": [],
   "source": [
    "codaSamples = coda.samples(jagsModel,\n",
    "                           variable.names = c(\"theta\"),\n",
    "                           n.iter = 3334)"
   ]
  },
  {
   "cell_type": "markdown",
   "metadata": {},
   "source": [
    "### Results\n",
    "John Kruschke was kind enough to write a function to plot the results of these models."
   ]
  },
  {
   "cell_type": "code",
   "execution_count": 24,
   "metadata": {
    "collapsed": false
   },
   "outputs": [
    {
     "name": "stderr",
     "output_type": "stream",
     "text": [
      "Warning message:\n",
      "\"unable to access index for repository http://cran.us.r-project.org/src/contrib:\n",
      "  cannot open URL 'http://cran.us.r-project.org/src/contrib/PACKAGES'\"Warning message:\n",
      "\"package 'compute.es' is not available (for R version 3.3.2)\"Warning message:\n",
      "\"unable to access index for repository http://cran.us.r-project.org/bin/windows/contrib/3.3:\n",
      "  cannot open URL 'http://cran.us.r-project.org/bin/windows/contrib/3.3/PACKAGES'\""
     ]
    }
   ],
   "source": [
    "source(\"data/R/DBDA2E-utilities.R\")\n",
    "diagMCMC(codaObject=codaSamples,\n",
    "         parName=\"theta\")"
   ]
  }
 ],
 "metadata": {
  "kernelspec": {
   "display_name": "R [conda env:R]",
   "language": "R",
   "name": "conda-env-R-r"
  },
  "language_info": {
   "codemirror_mode": "r",
   "file_extension": ".r",
   "mimetype": "text/x-r-source",
   "name": "R",
   "pygments_lexer": "r",
   "version": "3.3.2"
  }
 },
 "nbformat": 4,
 "nbformat_minor": 2
}
