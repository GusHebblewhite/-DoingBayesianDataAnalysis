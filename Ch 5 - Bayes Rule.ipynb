{
 "cells": [
  {
   "cell_type": "markdown",
   "metadata": {},
   "source": [
    "# Ch 5 - Bayes Rule\n",
    "\n",
    "### Basics and Intuition\n",
    "\n",
    "$$P(A\\, | \\, B) = \\frac{P(B \\, | \\, A)P(A)}{\\sum_{a^*} P(B \\, | \\, a^*)P(a^*)}$$\n",
    "\n",
    "where:  \n",
    "$A$ = some specific fixed value A  \n",
    "$a^*$ = all possible values for A\n",
    "\n",
    "A really easy way of intuiting Bayes rule is to consider a joint probability table with its marginals:\n",
    "\n",
    "**Table of Hair and Eye colour:**  \n",
    "\n",
    "Hair Colour: $\\rightarrow$||Black|Brunette|Red|Blonde|*Marginal*|\n",
    "-|-|-\n",
    "Eye Colour: $\\downarrow$|Brown|0.11|0.20|0.04|0.01|0.37\n",
    "|Blue|0.03|0.14|0.03|0.16|0.36\n",
    "|Hazel|0.03|0.09|0.02|0.02|0.16\n",
    "|Green|0.01|0.05|0.02|0.03|0.11\n",
    "|_**Marginal**_|0.18|0.48|0.12|0.21|1.0\n",
    "\n",
    "Essentially what we are doing wit Bayes Rule is isolating some element from the above table. For example:\n",
    "\n",
    "$$P(\\textrm{Red Hair} \\, | \\, \\textrm{Hazel Eyes}) = \\frac{P(\\textrm{Hazel Eyes} \\, | \\, \\textrm{Red Hair})P(\\textrm{Red Hair})}{P(\\textrm{Hazel Eyes})}$$\n",
    "\n",
    "$$ = \\frac{\\frac{0.02}{0.12} * 0.12}{0.16}$$\n",
    "\n",
    "$$ = \\frac{0.2}{0.16}$$\n",
    "\n",
    "In this particular case, I used Bayes Rule in a pretty convoluted way because $P(\\textrm{Hazel Eyes} \\, | \\, \\textrm{Red Hair})$ is just as hard as working out $P(\\textrm{Red Hair} \\, | \\, \\textrm{Hazel Eyes})$. To clarify this, note that each element in a given row or column is actually $P(element \\,| \\,row) \\, P(row)$ or $P(element \\, | \\, column) \\, P(column)$ respectively so the element itself already takes the **$P(A)$** term from the numerator (a.k.a. the prior) into account."
   ]
  },
  {
   "cell_type": "markdown",
   "metadata": {},
   "source": [
    "### Using Bayes Rule in practice:\n",
    "$$P(\\theta \\, | \\, D) = P(D \\, | \\, \\theta) \\, P(\\theta) \\, / \\, P(D)$$\n",
    "$$posterior \\: = \\: likelihood \\: * \\: prior \\: / \\: evidence$$\n",
    "\n",
    "where:  \n",
    "$$P(D) = \\sum_{\\theta^*} P(D \\, | \\, \\theta^*) \\, P(\\theta^*)$$  \n",
    "**NB** D stands for 'Data'\n",
    "\n",
    "##### What if we are working with continuous values???\n",
    "Same as above except:  \n",
    "$$P(D) = \\int p(D \\, | \\, \\theta^*) \\, p(\\theta^*) \\, d\\theta^*$$\n",
    "\n",
    "##### Does the order in which we apply evidence to update our prior matter?\n",
    "It depends on the model we are using for our prior (and whether the model itself , but in most practical situations no."
   ]
  },
  {
   "cell_type": "markdown",
   "metadata": {},
   "source": [
    "### Coin Flipping #1\n",
    "\n",
    "##### Modelling the scenario\n",
    "Let a coin have 2 possible outcomes; heads (1) and tails (0).\n",
    "\n",
    "Let $\\theta$ be the probability that a heads will be the result of any given flip. Thus the probability of tails is '$1-\\theta$'.\n",
    "\n",
    "The liklihood of any given set of heads and tails $\\{y_i\\}$ can be denoted:\n",
    "\n",
    "$$p(\\{y_i\\} \\, | \\theta) = \\theta ^ {\\sum_i y_i} \\; (1 - \\theta) ^ {\\sum_i (1 - y_i)}$$\n",
    "\n",
    "where:  \n",
    "$\\sum_i y_i$ = the number of heads  \n",
    "$\\sum_i (1 - y_i)$ = the number of tails\n",
    "\n",
    "##### Representing a distribution\n",
    "The simplest way of representing the possible values of $\\theta$ in a discreet case are to imagine that it could be any of some finite number of values (e.g. [0, 0.1, 0.2, ..., 1.0]).\n",
    "\n",
    "Lets imagine that we initially assume all of these values are equally likely, and that we then observe a result of a 'heads'."
   ]
  },
  {
   "cell_type": "code",
   "execution_count": 9,
   "metadata": {},
   "outputs": [
    {
     "data": {},
     "metadata": {},
     "output_type": "display_data"
    },
    {
     "data": {},
     "metadata": {},
     "output_type": "display_data"
    },
    {
     "data": {
      "image/png": "[encoded data removed]",
      "text/plain": [
       "plot without title"
      ]
     },
     "metadata": {},
     "output_type": "display_data"
    },
    {
     "data": {},
     "metadata": {},
     "output_type": "display_data"
    },
    {
     "data": {
      "image/png": "[encoded data removed]",
      "text/plain": [
       "plot without title"
      ]
     },
     "metadata": {},
     "output_type": "display_data"
    },
    {
     "data": {
      "image/png": "[encoded data removed]",
      "text/plain": [
       "plot without title"
      ]
     },
     "metadata": {},
     "output_type": "display_data"
    }
   ],
   "source": [
    "#Model our prior probabilities:\n",
    "probs = seq(0, 1, 0.05)\n",
    "\n",
    "#Generate a (uniform) prior distribution ( p(theta) ):\n",
    "prior = rep(1, length(probs)) * (1/length(probs))\n",
    "# OR Generate a centre-weighted prior distribution ( p(theta) ):\n",
    "prior = append(seq(0, ceiling(length(probs)/2) - 1, 1), seq(floor(length(probs)/2) -1, 0, -1))\n",
    "#Normalise\n",
    "prior = prior / sum(prior)\n",
    "\n",
    "#Observations ( D )\n",
    "observation = c(1, 1, 0)\n",
    "\n",
    "#Generate a likelihood function ( p(D | theta) )\n",
    "get_likelihood = function(p){\n",
    "    p ** (sum(observation)) * (1 - p) ** (length(observation) - sum(observation)) \n",
    "}\n",
    "likelihood = sapply(probs, get_likelihood)\n",
    "\n",
    "#Find the probability of the observation ( p(D) )\n",
    "evidence = sum(prior * likelihood)\n",
    "\n",
    "#Derive our posterior:\n",
    "posterior = prior * likelihood / evidence\n",
    "\n",
    "#Plot:\n",
    "library(ggplot2)\n",
    "library(repr)\n",
    "options(repr.plot.width=3, repr.plot.height=2)\n",
    "\n",
    "qplot() +\n",
    "    geom_point(aes(x=probs, y=prior)) + \n",
    "    geom_segment(aes(x=probs, xend=probs, y=0, yend=prior), color = \"red\") + \n",
    "    ylim(c(0, min(c(2*max(prior), 1)))) +\n",
    "    guides(color=FALSE)\n",
    "           \n",
    "qplot(probs, likelihood) +\n",
    "    geom_segment(aes(x=probs, xend=probs, y=0, yend=likelihood), color = \"green\") + \n",
    "    ylim(c(0, min(c(2*max(likelihood), 1)))) +\n",
    "    guides(color=FALSE)\n",
    "\n",
    "qplot(probs, posterior)+ \n",
    "    geom_segment(aes(x=probs, xend=probs, y=0, yend=posterior), color = \"blue\") + \n",
    "    ylim(c(0, min(c(2*max(posterior), 1)))) +\n",
    "    guides(color=FALSE)"
   ]
  },
  {
   "cell_type": "markdown",
   "metadata": {},
   "source": [
    "### So if we can do this for days, why do we need any other methods for Bayesian Stats?\n",
    "If we have many parameters (e.g. we are not just trying to find the $\\theta$ for a coin flip but also many other things, then doing this method of 'combing' the sample space becomes intractible, even on modern computers."
   ]
  }
 ],
 "metadata": {
  "kernelspec": {
   "display_name": "R [conda env:R]",
   "language": "R",
   "name": "conda-env-R-r"
  },
  "language_info": {
   "codemirror_mode": "r",
   "file_extension": ".r",
   "mimetype": "text/x-r-source",
   "name": "R",
   "pygments_lexer": "r",
   "version": "3.3.2"
  },
  "toc": {
   "colors": {
    "hover_highlight": "#DAA520",
    "navigate_num": "#000000",
    "navigate_text": "#333333",
    "running_highlight": "#FF0000",
    "selected_highlight": "#FFD700",
    "sidebar_border": "#EEEEEE",
    "wrapper_background": "#FFFFFF"
   },
   "moveMenuLeft": true,
   "nav_menu": {
    "height": "118px",
    "width": "252px"
   },
   "navigate_menu": true,
   "number_sections": true,
   "sideBar": true,
   "threshold": 4,
   "toc_cell": false,
   "toc_section_display": "block",
   "toc_window_display": false,
   "widenNotebook": false
  },
  "varInspector": {
   "cols": {
    "lenName": 16,
    "lenType": 16,
    "lenVar": 40
   },
   "kernels_config": {
    "python": {
     "delete_cmd_postfix": "",
     "delete_cmd_prefix": "del ",
     "library": "var_list.py",
     "varRefreshCmd": "print(var_dic_list())"
    },
    "r": {
     "delete_cmd_postfix": ") ",
     "delete_cmd_prefix": "rm(",
     "library": "var_list.r",
     "varRefreshCmd": "cat(var_dic_list()) "
    }
   },
   "types_to_exclude": [
    "module",
    "function",
    "builtin_function_or_method",
    "instance",
    "_Feature"
   ],
   "window_display": false
  }
 },
 "nbformat": 4,
 "nbformat_minor": 2
}
