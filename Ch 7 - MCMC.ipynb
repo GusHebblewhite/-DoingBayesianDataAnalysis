{
 "cells": [
  {
   "cell_type": "markdown",
   "metadata": {},
   "source": [
    "# Ch 7 - Markov Chain Monte Carlo\n",
    "\n",
    "MCMC is most useful when the methods outlines in Ch 5 and Ch 6 are not appropriate. For example, if we have a model which does not have an easily solvable analytic posterior (like the method in Ch 6) and which is also not easy to solve by exhaustively sampling over (what we do in Ch 5) possibly because the model has many parameters.\n",
    "\n",
    "### When to use:\n",
    "There are a couple of things that need to be true for MCMC to work well:\n",
    "1. The prior distribution is easily evaluated - i.e. to borrow from the coin flip example, that for a specific $\\theta$ we can find $p(\\theta)$ easily with a computer.\n",
    "2. That the liklihood function $p(D \\, | \\, \\theta)$ (the probability of the observation D given the parameter $\\theta$) is computable for any specified values of D and $\\theta$.\n",
    "\n",
    "### What it gives us:\n",
    "MCMC generates lots of $\\theta$ values sampled from the posterior, and this allows us to estimate lots of things like central tendency, Highest Density Interval (HDI) and the like. In essence, we approximate the posterior with a large representative sample.\n",
    "\n",
    "### So how do we sample a lot of representative points from the posterior?\n",
    "#### Intuition\n",
    "Imagine we are on a linear archipelago, and we want to visit each island proportionally to its population. However also imagine that we don't know the population of all of the islands, or even how many islands there are. All we know is the population of our island and all adjacent islands. \n",
    "\n",
    "Let's say we decide to act in accordance with the following algorithm (The Metropolis Algorithm):\n",
    "- Choose which island to consider moving to. If there are more than one adjacent islands, simply pick which one to make the 'prospective next move' uniformly. E.g. if there are two other islands, irrespective of their populations, just flip a coin.\n",
    "- If the prospective island has a population that is **larger than or the same as** the current one, move to it.\n",
    "- If the prospective island has a smaller population than the current one, move to it with a probability of p = $\\frac{\\textrm{population of prospective island}}{\\textrm{population of current island}}$. This can be achieved by just generating a random number. If the number is sampler than p, move islands.\n",
    "- Imagine that there are islands at each of the edges with a population of 0.\n",
    "\n",
    "If we do this, in the long run, we will satisfy our goal of spending a proportional amount of time on each island."
   ]
  },
  {
   "cell_type": "markdown",
   "metadata": {},
   "source": [
    "### Example of Metropolis Algorithm"
   ]
  },
  {
   "cell_type": "code",
   "execution_count": 1,
   "metadata": {
    "collapsed": true
   },
   "outputs": [],
   "source": [
    "#Example code:\n",
    "island_pop = c(0, 10, 5, 6, 7, 8, 9, 10, 0)\n",
    "\n",
    "#number of iterations to run\n",
    "iterations = 100000\n",
    "\n",
    "#Specifiy starting position\n",
    "curr_pos = sample(2:length(island_pop)-1, 1)\n",
    "\n",
    "metropolis = function(dist, pos){\n",
    "    curr_pop = dist[pos]\n",
    "    offset = sample(c(-1, 1), 1)\n",
    "    prosp_pop = dist[pos + offset]\n",
    "    \n",
    "    #test for moving:\n",
    "    pos = pos + (runif(1, 0, 1) < min(1, prosp_pop / curr_pop)) * offset\n",
    "    \n",
    "    return(pos)\n",
    "}\n",
    "    \n",
    "result = rep(0, length(island_pop))\n",
    "for (i in seq(iterations)){\n",
    "    curr_pos = metropolis(island_pop, curr_pos)\n",
    "    result[curr_pos] = result[curr_pos] + 1\n",
    "}\n"
   ]
  },
  {
   "cell_type": "code",
   "execution_count": 2,
   "metadata": {},
   "outputs": [
    {
     "data": {
      "image/png": "[encoded data removed]",
      "text/plain": [
       "plot without title"
      ]
     },
     "metadata": {},
     "output_type": "display_data"
    }
   ],
   "source": [
    "#plot the result out\n",
    "library(ggplot2)\n",
    "library(repr)\n",
    "options(repr.plot.width=8, repr.plot.height=4)\n",
    "\n",
    "x = seq(length(island_pop) - 2)\n",
    "y_m = result[2:(length(island_pop)-1)]\n",
    "y_real = island_pop[2:(length(island_pop)-1)]\n",
    "\n",
    "#Formatting\n",
    "par(mfrow=c(1,2))\n",
    "\n",
    "plot(x, y_m / sum(y_m), ylab = \"Metropolis Samples\")\n",
    "plot(x, y_real / sum(y_real), ylab = \"Real Proportion\")"
   ]
  },
  {
   "cell_type": "markdown",
   "metadata": {},
   "source": [
    "### Why do I care?\n",
    "Well, in the case of working out a posterior, we generally use Bayes Rule:\n",
    "$$p(\\theta \\, | \\, D) = \\frac{p(D \\, | \\, \\theta)p(\\theta)}{p(D)}$$\n",
    "Recall that the reason this can be hard is if $p(D)$ isn't solvable analytically - this forces us to create a grid of sample $\\theta$s and brute force through the problem. However, as we can see from the above example, the Metropolis algorithm gives us a representative sample from the posterior (which is proportional to $p(D \\, | \\, \\theta)p(\\theta)$ without actually needing to normalize. I.e. we don't even need to work out $p(D)$. "
   ]
  },
  {
   "cell_type": "markdown",
   "metadata": {},
   "source": [
    "### Computational Proof\n",
    "Say we have three states, with the following respective proportional \"importances\": [6, 3, 4]\n",
    "\n",
    "Let's use the Metropolis Algorithm and MCMC to find the equilibrium:\n",
    "\n",
    "Note that the graph we are traversing here is a fully connected graph with non-integer values. The Metropolis Algorithm will work here too."
   ]
  },
  {
   "cell_type": "code",
   "execution_count": 3,
   "metadata": {},
   "outputs": [
    {
     "data": {
      "text/html": [
       "<table>\n",
       "<tbody>\n",
       "\t<tr><td>0.2500000</td><td>0.1666667</td><td>0.2500000</td><td>0.3333333</td></tr>\n",
       "\t<tr><td>0.3333333</td><td>0.0000000</td><td>0.3333333</td><td>0.3333333</td></tr>\n",
       "\t<tr><td>0.3333333</td><td>0.2222222</td><td>0.1111111</td><td>0.3333333</td></tr>\n",
       "\t<tr><td>0.2500000</td><td>0.1250000</td><td>0.1875000</td><td>0.4375000</td></tr>\n",
       "</tbody>\n",
       "</table>\n"
      ],
      "text/latex": [
       "\\begin{tabular}{llll}\n",
       "\t 0.2500000 & 0.1666667 & 0.2500000 & 0.3333333\\\\\n",
       "\t 0.3333333 & 0.0000000 & 0.3333333 & 0.3333333\\\\\n",
       "\t 0.3333333 & 0.2222222 & 0.1111111 & 0.3333333\\\\\n",
       "\t 0.2500000 & 0.1250000 & 0.1875000 & 0.4375000\\\\\n",
       "\\end{tabular}\n"
      ],
      "text/markdown": [
       "\n",
       "| 0.2500000 | 0.1666667 | 0.2500000 | 0.3333333 | \n",
       "| 0.3333333 | 0.0000000 | 0.3333333 | 0.3333333 | \n",
       "| 0.3333333 | 0.2222222 | 0.1111111 | 0.3333333 | \n",
       "| 0.2500000 | 0.1250000 | 0.1875000 | 0.4375000 | \n",
       "\n",
       "\n"
      ],
      "text/plain": [
       "     [,1]      [,2]      [,3]      [,4]     \n",
       "[1,] 0.2500000 0.1666667 0.2500000 0.3333333\n",
       "[2,] 0.3333333 0.0000000 0.3333333 0.3333333\n",
       "[3,] 0.3333333 0.2222222 0.1111111 0.3333333\n",
       "[4,] 0.2500000 0.1250000 0.1875000 0.4375000"
      ]
     },
     "metadata": {},
     "output_type": "display_data"
    }
   ],
   "source": [
    "#Proof (computational):\n",
    "states = c(6,3,4.5,8)\n",
    "\n",
    "###################################################################\n",
    "#Generate a transition matrix from the algorithm above.\n",
    "\n",
    "#Create empty matrix\n",
    "\n",
    "get_state_trans_matrix = function(states){\n",
    "    trans_matrix = c()\n",
    "\n",
    "    #populate the matrix\n",
    "    for (to in seq(length(states))){\n",
    "        for (from in seq(length(states))){\n",
    "            if (from == to){\n",
    "                res = (1 - (1/(length(states) - 1)) * sum(sapply(states[-from], \n",
    "                                                        function(x) min(1, (x/states[from])))))\n",
    "                trans_matrix = append(trans_matrix, res)                            \n",
    "            }\n",
    "            else{\n",
    "                res = (1/(length(states) - 1)) *  min(1, (states[to]/states[from]))\n",
    "                trans_matrix = append(trans_matrix, res)\n",
    "            }\n",
    "        }\n",
    "    }\n",
    "    return(matrix(trans_matrix, length(states), length(states)))\n",
    "}\n",
    "trans_matrix = get_state_trans_matrix(states)\n",
    "                                                                 \n",
    "trans_matrix"
   ]
  },
  {
   "cell_type": "code",
   "execution_count": 4,
   "metadata": {},
   "outputs": [
    {
     "data": {
      "text/html": [
       "<table>\n",
       "<tbody>\n",
       "\t<tr><td>0.2790698</td><td>0.1395349</td><td>0.2093023</td><td>0.372093 </td></tr>\n",
       "</tbody>\n",
       "</table>\n"
      ],
      "text/latex": [
       "\\begin{tabular}{llll}\n",
       "\t 0.2790698 & 0.1395349 & 0.2093023 & 0.372093 \\\\\n",
       "\\end{tabular}\n"
      ],
      "text/markdown": [
       "\n",
       "| 0.2790698 | 0.1395349 | 0.2093023 | 0.372093  | \n",
       "\n",
       "\n"
      ],
      "text/plain": [
       "     [,1]      [,2]      [,3]      [,4]    \n",
       "[1,] 0.2790698 0.1395349 0.2093023 0.372093"
      ]
     },
     "metadata": {},
     "output_type": "display_data"
    }
   ],
   "source": [
    "#Specify number of iterations\n",
    "iterations = 1000\n",
    "\n",
    "#Get random initial state:\n",
    "curr_state = matrix(0, 1, length(states))\n",
    "curr_state[sample(seq(length(states)), 1)] = 1\n",
    "\n",
    "#iterate out over the state transition matrix:\n",
    "for (i in seq(iterations)){\n",
    "    curr_state = curr_state %*% trans_matrix\n",
    "}\n",
    "\n",
    "curr_state"
   ]
  },
  {
   "cell_type": "code",
   "execution_count": 5,
   "metadata": {},
   "outputs": [
    {
     "data": {
      "text/html": [
       "<ol class=list-inline>\n",
       "\t<li>0.27906976744186</li>\n",
       "\t<li>0.13953488372093</li>\n",
       "\t<li>0.209302325581395</li>\n",
       "\t<li>0.372093023255814</li>\n",
       "</ol>\n"
      ],
      "text/latex": [
       "\\begin{enumerate*}\n",
       "\\item 0.27906976744186\n",
       "\\item 0.13953488372093\n",
       "\\item 0.209302325581395\n",
       "\\item 0.372093023255814\n",
       "\\end{enumerate*}\n"
      ],
      "text/markdown": [
       "1. 0.27906976744186\n",
       "2. 0.13953488372093\n",
       "3. 0.209302325581395\n",
       "4. 0.372093023255814\n",
       "\n",
       "\n"
      ],
      "text/plain": [
       "[1] 0.2790698 0.1395349 0.2093023 0.3720930"
      ]
     },
     "metadata": {},
     "output_type": "display_data"
    }
   ],
   "source": [
    "states / sum(states)"
   ]
  },
  {
   "cell_type": "markdown",
   "metadata": {},
   "source": [
    "^ Yep it matches!"
   ]
  },
  {
   "cell_type": "markdown",
   "metadata": {},
   "source": [
    "### The more general Metropolis algorithm\n",
    "We have some target distribution $P(\\theta)$ over some multidimensional continuous parameter space, from which we would like to generate representative samples. $P(\\theta)$ need not be normalized (although it must be non-negative), and we must be able to calculate $P(\\theta)$ for any candidate value of $\\theta$. In typical applications, $P(\\theta)$ is the un-normalized product of the likelihood and the prior on $\\theta$.\n",
    "\n",
    "##### How do we work out where to \"step\" next in a continuous case?\n",
    "We step according to some 'proposal distribution' (e.g. a normal distribution). Taking the current position as the mean (initially we must choose somewhere that $P(\\theta)$ is non-zero), we sample some other point in the paramter space determined at random by drawing from out proposal distribution, and move our mean to it if the Metropolis condition is met (auto-move if it's larger, move probabilistically if not)."
   ]
  },
  {
   "cell_type": "markdown",
   "metadata": {},
   "source": [
    "### Metropolis Sampling with Coin Flip example:\n",
    "\n",
    "Recall that:\n",
    "$$p(\\theta \\, | \\, z, N) = \\frac{\\theta^{(a + z - 1)} (1-\\theta)^{(N-z+b-1)}}{B(z+a, N-z+b)}$$\n",
    "\n",
    "Or separated out into its components:\n",
    "\n",
    "$$p(\\theta \\, | \\, z, N) = \\theta^{n} (1-\\theta)^{(N-z)} \\; \\frac{\\theta^{(a - 1)} (1-\\theta)^{(b-1)}}{B(a, b)}$$\n",
    "$$\\textrm{posterior} = \\textrm{Bernoulli likelihood} \\times \\textrm{Beta prior}$$\n",
    "\n",
    "where:  \n",
    "N = number of events (coin tosses)  \n",
    "z = number of successes (heads)\n",
    "a = prior a\n",
    "b = prior b\n",
    "\n",
    "Since we don't need to normalize for the Metropolis algorithm, we can ignore the denominator. Thus, our posterior distribution is:\n",
    "$$\\theta^{(a + z - 1)} (1-\\theta)^{(N-z+b-1)}$$\n",
    "OR (functionally equivalent):\n",
    "$$\\theta^{n} (1-\\theta)^{(N-z)} \\; \\textrm{beta}(\\theta, a, b)$$\n",
    "Let's compare the results from solving analytically (using the Beta distribution) and with Monte Carlo (using the Metropolis algorithm)."
   ]
  },
  {
   "cell_type": "code",
   "execution_count": 6,
   "metadata": {
    "collapsed": true
   },
   "outputs": [],
   "source": [
    "#Here are our empirical results\n",
    "N = 20\n",
    "z = 15\n",
    "\n",
    "#Specify our prior\n",
    "a_prior = 10\n",
    "b_prior = 10\n",
    "\n",
    "#######################################################\n",
    "# BETA\n",
    "#######################################################\n",
    "\n",
    "#Range of x values to sample over:\n",
    "x = seq(0, 1, 0.01)\n",
    "\n",
    "#Generate Distribution\n",
    "posterior_beta = dbeta(x, (N + a_prior), (N - z + b_prior))\n",
    "\n",
    "#######################################################\n",
    "# METROPOLIS\n",
    "#######################################################\n",
    "\n",
    "#Specify number of iterationsf\n",
    "iter = 10000\n",
    "\n",
    "get_posterior = function(theta, N, z, a_prior, b_prior){\n",
    "    #Bernoulli likelihood * beta prior \n",
    "    return(theta ** z * (1-theta) ** (N - z) * dbeta(theta, a_prior, b_prior))\n",
    "    \n",
    "    #Note this should function the same way if we simply encode the prior \n",
    "    #and evidence in a bernoulli series\n",
    "}\n",
    "\n",
    "N_post = N + a_prior + b_prior\n",
    "z_post = z + a_prior\n",
    "\n",
    "#First grab a random non-zero theta:\n",
    "while(1){\n",
    "    theta_curr = runif(1, 0, 1)\n",
    "    if (get_posterior(theta_curr, N, z, a_prior, b_prior) > 0){\n",
    "        result = c(theta_curr)\n",
    "        break\n",
    "    }\n",
    "}\n",
    "\n",
    "#Now run through the Metropolis algorithm for the given number of iterations:\n",
    "\n",
    "sigma = 0.2\n",
    "\n",
    "for (i in seq(iter)){\n",
    "    #Generate new point (within the acceptable range):\n",
    "    while(1){\n",
    "        theta_next = rnorm(1, theta_curr, sigma)\n",
    "        if ((1 >= theta_next) & (theta_next >= 0)){\n",
    "            break\n",
    "        }\n",
    "    }\n",
    "    #Metropolis:\n",
    "    result = append(result, theta_curr)\n",
    "    if (runif(1,0,1) < min(1, (get_posterior(theta_next, N, z, a_prior, b_prior) / \n",
    "                               get_posterior(theta_curr, N, z, a_prior, b_prior)))){\n",
    "        theta_curr = theta_next\n",
    "    }\n",
    "    result = append(result, theta_curr)\n",
    "}"
   ]
  },
  {
   "cell_type": "code",
   "execution_count": 7,
   "metadata": {},
   "outputs": [
    {
     "name": "stderr",
     "output_type": "stream",
     "text": [
      "Warning message in plot.xy(xy, type, ...):\n",
      "\"plot type 'line' will be truncated to first character\""
     ]
    },
    {
     "data": {
      "image/png": "[encoded data removed]",
      "text/plain": [
       "Plot with title \"Metropolis\""
      ]
     },
     "metadata": {},
     "output_type": "display_data"
    }
   ],
   "source": [
    "library(repr)\n",
    "options(repr.plot.width=8, repr.plot.height=4)\n",
    "par(mfrow=c(1,2))\n",
    "plot(x, posterior_beta, type = \"line\", main = \"Beta\")\n",
    "hist(result, breaks = 100, xlim = c(0,1), main = \"Metropolis\")"
   ]
  },
  {
   "cell_type": "markdown",
   "metadata": {
    "collapsed": true
   },
   "source": [
    "#### The effect of sigma\n",
    "It's worth noting that there are tradoffs with using different sigma vales for our proposal distribution. Small sigmas will converge slowly, large sigmas will converge quickly, and medium sigmas will converge at a medium pace and be very efficient (i.e. iterations of the metropolis algorithm will be more efffectively turned into 'moves' resulting in a higher effective sample size).\n",
    "\n",
    "##### What if we want to sample from a distribution with more than one parameter?\n",
    "For that we use Gibbs sampling."
   ]
  }
 ],
 "metadata": {
  "kernelspec": {
   "display_name": "R",
   "language": "R",
   "name": "ir"
  },
  "language_info": {
   "codemirror_mode": "r",
   "file_extension": ".r",
   "mimetype": "text/x-r-source",
   "name": "R",
   "pygments_lexer": "r",
   "version": "3.4.1"
  },
  "toc": {
   "colors": {
    "hover_highlight": "#DAA520",
    "navigate_num": "#000000",
    "navigate_text": "#333333",
    "running_highlight": "#FF0000",
    "selected_highlight": "#FFD700",
    "sidebar_border": "#EEEEEE",
    "wrapper_background": "#FFFFFF"
   },
   "moveMenuLeft": true,
   "nav_menu": {
    "height": "227px",
    "width": "252px"
   },
   "navigate_menu": true,
   "number_sections": true,
   "sideBar": true,
   "threshold": 4,
   "toc_cell": false,
   "toc_section_display": "block",
   "toc_window_display": false,
   "widenNotebook": false
  },
  "varInspector": {
   "cols": {
    "lenName": 16,
    "lenType": 16,
    "lenVar": 40
   },
   "kernels_config": {
    "python": {
     "delete_cmd_postfix": "",
     "delete_cmd_prefix": "del ",
     "library": "var_list.py",
     "varRefreshCmd": "print(var_dic_list())"
    },
    "r": {
     "delete_cmd_postfix": ") ",
     "delete_cmd_prefix": "rm(",
     "library": "var_list.r",
     "varRefreshCmd": "cat(var_dic_list()) "
    }
   },
   "types_to_exclude": [
    "module",
    "function",
    "builtin_function_or_method",
    "instance",
    "_Feature"
   ],
   "window_display": false
  }
 },
 "nbformat": 4,
 "nbformat_minor": 2
}
