{
 "cells": [
  {
   "cell_type": "markdown",
   "metadata": {},
   "source": [
    "# Ch 7_3 - Gibbs Sampling and MCMC Evaluation\n",
    "\n",
    "## Gibbs Sampling\n",
    "### The limits of Metropolis\n",
    "The main limitation of the metropolis algorithm is that we need to specify a well tuned proposal distribution (or else lose sampling efficiency) and even with a good sampling distribution the maximum efficiency is still quite low.\n",
    "\n",
    "### How Gibbs Sampling works\n",
    "In multiple dimensions, instead of sampling from the multivariate normal around the selected point to get a new value for each parameter, you instead change each parameter one at a time and sample it from the distribution of that parameter when all other parameters are fixed, i.e. if $\\theta_i$ is the parameter we are currently changing then we sample from:\n",
    "$$p(\\theta_i \\, | \\, \\{\\theta_{j \\neq i}\\}, D)$$\n",
    "\n",
    "##### When does it work?\n",
    "Gibbs Sampling works best when:\n",
    "1. $p(\\{\\theta_{i}\\} \\, | \\, D)$ is not solvable analytically and cannot be directly sampled\n",
    "2. $p(\\theta_i \\, | \\, \\{\\theta_{j \\neq i}\\}, D)$ can be determined and directly sampled for all $\\theta_i$\n",
    "\n",
    "### Gibbs Coin Flip\n",
    "So what is $p(\\theta_i \\, | \\, \\{\\theta_{j \\neq i}\\}, D)$ in the 2-coin coin flip example?\n",
    "\n",
    "Well:\n",
    "$$p(\\theta_i \\, | \\, \\theta_j, D) = \\frac{p(\\theta_i, \\theta_j  \\, | \\, D)}{p(\\theta_j  \\, | \\, D)}$$\n",
    "\n",
    "**Hold on how did you get that?**\n",
    "Recall from your notes that p(A|B|C) = p(A|B,C). So prove this equality just let U = B|C and then the conditional probability formula gives p(A|U) = p(A,U)/P(U) which is the answer (once you sub for U again).\n",
    "\n",
    "Continuing:\n",
    "$$p(\\theta_i \\, | \\, \\theta_j, D) = \\frac{p(\\theta_i, \\theta_j  \\, | \\, D)}{\\int p(\\theta_i, \\theta_j  \\, | \\, D), d\\theta_i}$$\n",
    "\n",
    "Since as we have covered we can use the beta and bernoulli distributions to model this:  \n",
    "\n",
    "$$p(\\theta_i, \\theta_j  \\, | \\, D) = \\textrm{beta}(\\theta_i, z_i + a_i, N_i - z_i + b_i) \\; \\textrm{beta}(\\theta_j, z_j + a_j, N_j - z_j + b_j)$$\n",
    "\n",
    "$$\\int p(\\theta_i, \\theta_j  \\, | \\, D) \\, d\\theta_i = \\textrm{beta}(\\theta_j, z_j + a_j, N_j - z_j + b_j)$$ \n",
    "\n",
    "Thus:\n",
    "\n",
    "$$p(\\theta_i \\, | \\, \\theta_j, D) = \\textrm{beta}(\\theta_i, z_i + a_i, N_i - z_i + b_i)$$"
   ]
  },
  {
   "cell_type": "markdown",
   "metadata": {
    "collapsed": true
   },
   "source": [
    "### Ok so how do we use it (and metropolis) to compare $\\theta\\,$'s?\n",
    "This is pretty neat. In both sampling algorithms, each time we move it's to a \"credible\" position - either it has a higher posterior or (and in the Gibbs case) the posterior is much more likely to move if the posterior is at least high-ish. As a result of this, we can take the difference in our parameters ($\\theta_1 - \\theta_2$) in each step and examine to histogram of these differences. If $\\theta_1$ and $\\theta_2$ **are** the same then this distance will be often 0 and the value '0' will appear often and thus be a peak in the histogram. Confidence intervals can be approximated from the proportion of samples falling within a given range of each other (for example if 95% of the intervals are within 0.1 of each other around a mean on 0.4 then the 95% HDI (highest density interval) will be 0.3 to 0.5."
   ]
  },
  {
   "cell_type": "markdown",
   "metadata": {},
   "source": [
    "## Evaluation\n",
    "\n",
    "In this section we cover how to evaluate questions like \"have I iterated enough?\". First though, some basic concepts:\n",
    "\n",
    "#### Autocorrelation\n",
    "Autocorrelation is a measure of 'clumpiness'. Essentially, we look at the correlation of some chain of steps of length 'N' and compare it with itself offset by some number of points 'k' (called *lag*) into the future."
   ]
  },
  {
   "cell_type": "code",
   "execution_count": 1,
   "metadata": {},
   "outputs": [
    {
     "data": {
      "image/png": "[encoded data removed]"
     },
     "metadata": {},
     "output_type": "display_data"
    }
   ],
   "source": [
    "#Set up for plots:\n",
    "options(warn=-1)\n",
    "library(repr)\n",
    "library(ggplot2)\n",
    "options(repr.plot.width=8, repr.plot.height=3)\n",
    "par(mfrow=c(1,2))\n",
    "\n",
    "#Basic autocorrelation:\n",
    "sequence = sample(1:9, 20, replace = TRUE)\n",
    "\n",
    "#Speficy some initial chain\n",
    "start = 3\n",
    "N = 7\n",
    "sample_chain = sequence[start: (start+N)]\n",
    "\n",
    "#specify a lag value to try\n",
    "k_1 = 2\n",
    "sample_chain_lag = sequence[(start+k_1): (start+N+k_1)]\n",
    "plot(seq(N+1), sample_chain, type = \"line\", ann = FALSE, col = \"red\", )\n",
    "par(new=TRUE)\n",
    "plot(seq(N+1), sample_chain_lag, axes = FALSE, type = \"line\", ann = FALSE, col = \"blue\")\n",
    "title(paste(c('corr = ', toString(round(cor(sample_chain, sample_chain_lag), 3)))))\n",
    "\n",
    "#specify a lag value to try\n",
    "k_2 = 4\n",
    "sample_chain_lag = sequence[(start+k_2): (start+N+k_2)]\n",
    "plot(seq(N+1), sample_chain, type = \"line\", ann = FALSE, col = \"red\", )\n",
    "par(new=TRUE)\n",
    "plot(seq(N+1), sample_chain_lag, axes = FALSE, type = \"line\", ann = FALSE, col = \"blue\")\n",
    "title(paste(c('corr = ', toString(round(cor(sample_chain, sample_chain_lag), 3)))))"
   ]
  },
  {
   "cell_type": "markdown",
   "metadata": {},
   "source": [
    "The 'Autocorrelation function' usually refers to the process of testing the autocorrelation for a range of different lag values (for example 1 through 20).\n",
    "\n",
    "If you plot the autocorrelation for a range of steps, you should see a steep downward trend. The slower the process takes to have a low correlation, the less independent information you are getting about the distribution from which you are sampling for each Gibbs/Metropolis iteration.\n",
    "\n",
    "### Effective Sample Size\n",
    "The effective sample size is a measure of the actual sample size divided by the autocorrelation. \n",
    "$$\\textrm{ESS} = N \\big/ \\big( 1 + 2 \\, \\sum_{k=1}^{\\infty} \\, ACF(k) \\big)$$\n",
    "where ACF(k) is the autocorrelation with lag k\n",
    "\n",
    "**How much ESS do I need?**  \n",
    "For reasonably good estimates of sensitive parameters such as the 95% HDI, and ESS of around 10,000 is recommended. \n",
    "\n",
    "### ESS and estimation of Standard Errors\n",
    "Recall that the standard error of the sample mean is:\n",
    "$$\\widehat{\\textrm{SE}}(\\bar{Y}) = \\frac{\\widehat{SD}(Y_i)}{\\sqrt{N}}$$\n",
    "In Monte Carlo scenarios, we should use the ESS instead:\n",
    "$$\\widehat{\\textrm{SEMC}}(\\bar{Y}) = \\frac{\\widehat{SD}(Y_i)}{\\sqrt{ESS}}$$\n",
    "Note that the 'hats' here signify estimates.\n",
    "\n"
   ]
  },
  {
   "cell_type": "markdown",
   "metadata": {},
   "source": [
    "### MCMC Efficiency\n",
    "Read the final section (on efficiency) for some practical ways to make MCMC run faster."
   ]
  },
  {
   "cell_type": "code",
   "execution_count": null,
   "metadata": {
    "collapsed": true
   },
   "outputs": [],
   "source": []
  },
  {
   "cell_type": "code",
   "execution_count": null,
   "metadata": {
    "collapsed": true
   },
   "outputs": [],
   "source": []
  },
  {
   "cell_type": "code",
   "execution_count": null,
   "metadata": {
    "collapsed": true
   },
   "outputs": [],
   "source": []
  },
  {
   "cell_type": "code",
   "execution_count": null,
   "metadata": {
    "collapsed": true
   },
   "outputs": [],
   "source": []
  }
 ],
 "metadata": {
  "kernelspec": {
   "display_name": "R",
   "language": "R",
   "name": "ir"
  },
  "language_info": {
   "codemirror_mode": "r",
   "file_extension": ".r",
   "mimetype": "text/x-r-source",
   "name": "R",
   "pygments_lexer": "r",
   "version": "3.4.1"
  }
 },
 "nbformat": 4,
 "nbformat_minor": 2
}
