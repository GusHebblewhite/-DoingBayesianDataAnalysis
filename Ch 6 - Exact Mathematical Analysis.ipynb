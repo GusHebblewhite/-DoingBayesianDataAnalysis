{
 "cells": [
  {
   "cell_type": "markdown",
   "metadata": {
    "collapsed": true
   },
   "source": [
    "# Ch 6 - Exact Mathematical Analysis\n",
    "\n",
    "### Restatement of Coin Flip example:\n",
    "\n",
    "$$p(\\{y_i\\} \\, | \\, \\theta) = \\theta^{\\sum_i y_i} \\; (1-\\theta)^{\\sum_i (1-y_1)}$$\n",
    "\n",
    "where:  \n",
    "$\\theta$ = p(heads)  \n",
    "$\\{y_i\\}$ = the set of observations (heads as 1, tails as 0 - e.g. [0,1,0,0,...1])  \n",
    "\n",
    "There are two ways of thinking of the above equation. \n",
    "1. We can treat $\\theta$ as fixed, in which case we can use it to find the **probability** of getting some given number of heads and tails (encoded in $\\{y_i\\}$). For some given number of coins , this will always sum to 1.\n",
    "2. We can treat $\\{y_i\\}$ as fixed, in which case we can find the **likelihood** that the sequence came from some given $\\theta$. **NB** This likelihood function needs not sum/integrate* to 1.\n",
    "\n",
    "\\* sum in the discreet case, integrate in the continuous case.\n",
    "\n",
    "**Why does the likelihood not need to sum/integrate to 1?**  \n",
    "Think about what it's saying; \"for some range of $\\theta$ values, here is the chance that that sequence would occur given that this is the true $\\theta$\". To intuit this, consider that we get 3 heads. If $\\theta$ = 1, this outcome is a certainty (likelihood = 1). If $\\theta$ is 0.9, then this outcome is still really likely (0.73). Obviously these sum to more than 1. Similarly say we observe just a single head. The continuous likelihood function will be a straight line from (0,0) to (1,1) which integrates to 0.5.\n",
    "\n",
    "### More compact notation\n",
    "Another, more compact way of writing this Bernoulli likelihood function is:\n",
    "$$p(\\{y_i\\} \\, | \\, \\theta) = \\theta^z \\; (1-\\theta)^{N-z}$$\n",
    "\n",
    "where:  \n",
    "N = number of events (coin tosses)  \n",
    "z = number of successes (heads)\n",
    "\n"
   ]
  },
  {
   "cell_type": "markdown",
   "metadata": {},
   "source": [
    "### Using a Beta distribution\n",
    "\n",
    "##### Restatement of Beta Distribution:\n",
    "$$p(\\theta \\, | \\, a, b) = \\textrm{beta}(\\theta \\, | \\, a, b) = \\frac{\\theta ^ {a - 1} (1-\\theta) ^ {b-1}}{B(a,b)}$$\n",
    "where:\n",
    "$$B(a,b) = \\int_0^1 \\theta ^ {a - 1} (1-\\theta) ^ {b-1}\\; d\\theta$$\n",
    "\n",
    "In R, $\\textrm{beta}(\\theta \\, | \\, a, b)$ = dbeta($\\theta$, a, b) and $B(a,b)$ = beta(a,b)\n",
    "\n",
    "\n",
    "As you can see from Ch 5, we can work out how to go from prior to posterior from first principles in the coin flip case (by simply applying Bayes Rule).\n",
    "\n",
    "However there are two things that we might want from our model:\n",
    "1. for numerator of Bayes Rule $p(y\\,|\\,\\theta)\\,p(\\theta)$ to be of the same form as $p(y\\,|\\,\\theta)$. This property allows us to repeatedly perform the prior $\\rightarrow$ posterior updating. If this condition is met, then $p(\\theta)$ is called a conjugate prior for $p(y\\,|\\,\\theta)$\n",
    "2. for the denominator of Bayes Rule $\\int p(y\\,|\\,\\theta)\\,p(\\theta) \\; d\\theta$ to be analytically solvable.\n",
    "\n",
    "**I still don't get \\*why\\*?!**  \n",
    "In the discreet case it makes no difference. However the coin flip example with a beta prior / posterior in the continuous case is actually solvable.\n",
    "\n",
    "### Working out posteriors with a beta distribution:\n",
    "$$p(\\theta \\, | \\, z, N) = \\textrm{beta}(\\theta \\, | \\, a + z, N - z + b) = \\frac{\\theta^{(a + z - 1)} (1-\\theta)^{(N-z+b-1)}}{B(z+a, N-z+b)}$$\n",
    "\n",
    "Wow that's really simple!\n",
    "\n",
    "We also have a couple of other nice analystical tools, such as ways of comparing the relevant contributions coming from the prior versus from the data:\n",
    "\n",
    "$$\\frac{z+a}{N+a+b} = \\frac{z}{N} \\times \\frac{N}{N+a+b} + \\frac{a}{a+b} \\times \\frac{a+b}{N+a+b}$$\n",
    "\n",
    "$$posterior = data \\times weight + prior \\times weight$$\n",
    "\n",
    "### What if we have priors which cannot be expressed as a beta distribution?\n",
    "Then we need to revert to the method in Ch 5 - specify some arbitrary prior over a grid of possible $\\theta$ values."
   ]
  },
  {
   "cell_type": "code",
   "execution_count": null,
   "metadata": {
    "collapsed": true
   },
   "outputs": [],
   "source": []
  }
 ],
 "metadata": {
  "kernelspec": {
   "display_name": "R",
   "language": "R",
   "name": "ir"
  },
  "language_info": {
   "codemirror_mode": "r",
   "file_extension": ".r",
   "mimetype": "text/x-r-source",
   "name": "R",
   "pygments_lexer": "r",
   "version": "3.4.1"
  }
 },
 "nbformat": 4,
 "nbformat_minor": 2
}
